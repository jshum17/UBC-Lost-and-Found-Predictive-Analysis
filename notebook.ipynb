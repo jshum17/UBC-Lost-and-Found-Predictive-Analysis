{
 "cells": [
  {
   "cell_type": "markdown",
   "id": "9949a49c-39c7-434f-841a-b262770fab01",
   "metadata": {},
   "source": [
    "# UBC Lost & Found Predictive Analysis"
   ]
  },
  {
   "cell_type": "markdown",
   "id": "a11fed41-cd05-423f-ba93-da1d3ff1fdec",
   "metadata": {},
   "source": [
    "<img src=\"./img/access.jpg\" alt=\"drawing\" style=\"width:90%;\"/>\n",
    "Access Services. Retrieved from <a href = \"https://parking.ubc.ca/\">UBC Parking</a> "
   ]
  },
  {
   "cell_type": "markdown",
   "id": "2d28cfb6-dc73-42b2-831c-b5bd62adcc71",
   "metadata": {},
   "source": [
    "## Introduction \n",
    "---"
   ]
  },
  {
   "cell_type": "markdown",
   "id": "bba275b4-9b5b-4ffb-92e5-e862b961fb6f",
   "metadata": {},
   "source": [
    "Losing personal belongings is a common and often frustrating experience for students and staff at UBC. Items ranging from everyday essentials like wallets and keys to electronics and jewelry frequently end up in the lost and found. While the university maintains a central lost and found system, the lack of systematic analysis in these services can lead to inefficiencies, making it harder to identify trends and optimize recovery processes. By analyzing the UBC lost and found dataset, this project aims to uncover patterns in lost items, predict future trends, and provide actionable insights to enhance the efficiency of UBC's lost and found services.\n",
    "\n",
    "**Objectives**: \n",
    "- **Item Classification Analysis**: Identify the most frequently lost item categories (e.g., electronics, wallets, keys).\n",
    "- **Temporal Analysis**: Examine seasonal and daily trends in lost item reports.\n",
    "- **Location Analysis**: Identify the most common campus locations where items are lost and found.\n",
    "- **Time Series Forecasting**: Develop predictive models to forecast the number of items reported to the lost and found using historical data.\n",
    "- **Recommendations**: Provide actionable recommendations to improve the lost and found system, including targeted awareness campaigns, optimized item storage, and enhanced communication channels.\n"
   ]
  },
  {
   "cell_type": "markdown",
   "id": "321ca4d9-7e77-447d-8972-8bacf195b9f7",
   "metadata": {},
   "source": [
    "## Dataset\n",
    "---"
   ]
  },
  {
   "cell_type": "markdown",
   "id": "feedeccf-5719-47b3-b951-7044b5e0adab",
   "metadata": {},
   "source": [
    "The [UBC Lost and Found database](https://lostandfound.ubc.ca/all-items) is a publicly accessible dataset containing information about items reported lost within the University of British Columbia campus. The dataset spans from May 2024 to the current day, with over 140 entries. Each entry includes details such as the item type, description, date lost, and location. We will be using the dataset retrieved as of January 2025 for the project."
   ]
  },
  {
   "cell_type": "markdown",
   "id": "a62986e5-aac8-44f9-847d-f586740e3754",
   "metadata": {},
   "source": [
    "### Loading libraries"
   ]
  },
  {
   "cell_type": "code",
   "execution_count": 1,
   "id": "be61ed27-a860-4f8c-8ba1-2c0980643fbd",
   "metadata": {},
   "outputs": [],
   "source": [
    "import pandas as pd\n",
    "import matplotlib.pyplot as plt\n",
    "import numpy as np\n",
    "import seaborn as sns"
   ]
  },
  {
   "cell_type": "markdown",
   "id": "c35d3486-e474-4385-bf3c-52b41e75681d",
   "metadata": {},
   "source": [
    "### Importing the data"
   ]
  },
  {
   "cell_type": "code",
   "execution_count": 2,
   "id": "6616fe32-abd8-439d-b737-13b6dc7d6a0f",
   "metadata": {},
   "outputs": [
    {
     "data": {
      "text/html": [
       "<div>\n",
       "<style scoped>\n",
       "    .dataframe tbody tr th:only-of-type {\n",
       "        vertical-align: middle;\n",
       "    }\n",
       "\n",
       "    .dataframe tbody tr th {\n",
       "        vertical-align: top;\n",
       "    }\n",
       "\n",
       "    .dataframe thead th {\n",
       "        text-align: right;\n",
       "    }\n",
       "</style>\n",
       "<table border=\"1\" class=\"dataframe\">\n",
       "  <thead>\n",
       "    <tr style=\"text-align: right;\">\n",
       "      <th></th>\n",
       "      <th>Ticket Number</th>\n",
       "      <th>Item Type</th>\n",
       "      <th>Status</th>\n",
       "      <th>Item Description</th>\n",
       "      <th>Date</th>\n",
       "      <th>Lost Item Location</th>\n",
       "    </tr>\n",
       "  </thead>\n",
       "  <tbody>\n",
       "    <tr>\n",
       "      <th>0</th>\n",
       "      <td>47162</td>\n",
       "      <td>Electronics</td>\n",
       "      <td>Lost</td>\n",
       "      <td>Over the head - Headphone.</td>\n",
       "      <td>January 13, 2025</td>\n",
       "      <td>Other</td>\n",
       "    </tr>\n",
       "    <tr>\n",
       "      <th>1</th>\n",
       "      <td>47161</td>\n",
       "      <td>Wallet</td>\n",
       "      <td>Lost</td>\n",
       "      <td>Wallet with SIN card, bank cards, etc</td>\n",
       "      <td>January 10, 2025</td>\n",
       "      <td>Other</td>\n",
       "    </tr>\n",
       "    <tr>\n",
       "      <th>2</th>\n",
       "      <td>47160</td>\n",
       "      <td>Electronics</td>\n",
       "      <td>Lost</td>\n",
       "      <td>Portable speaker</td>\n",
       "      <td>January 9, 2025</td>\n",
       "      <td>Other</td>\n",
       "    </tr>\n",
       "    <tr>\n",
       "      <th>3</th>\n",
       "      <td>47158</td>\n",
       "      <td>Electronics</td>\n",
       "      <td>Lost</td>\n",
       "      <td>Headphones (over-ear)</td>\n",
       "      <td>January 7, 2025</td>\n",
       "      <td>Other</td>\n",
       "    </tr>\n",
       "    <tr>\n",
       "      <th>4</th>\n",
       "      <td>47157</td>\n",
       "      <td>Electronics</td>\n",
       "      <td>Lost</td>\n",
       "      <td>HP Laptop (model # and serial # required in or...</td>\n",
       "      <td>January 6, 2025</td>\n",
       "      <td>NaN</td>\n",
       "    </tr>\n",
       "  </tbody>\n",
       "</table>\n",
       "</div>"
      ],
      "text/plain": [
       "   Ticket Number    Item Type Status  \\\n",
       "0          47162  Electronics   Lost   \n",
       "1          47161       Wallet   Lost   \n",
       "2          47160  Electronics   Lost   \n",
       "3          47158  Electronics   Lost   \n",
       "4          47157  Electronics   Lost   \n",
       "\n",
       "                                    Item Description              Date  \\\n",
       "0                         Over the head - Headphone.  January 13, 2025   \n",
       "1              Wallet with SIN card, bank cards, etc  January 10, 2025   \n",
       "2                                   Portable speaker   January 9, 2025   \n",
       "3                              Headphones (over-ear)   January 7, 2025   \n",
       "4  HP Laptop (model # and serial # required in or...   January 6, 2025   \n",
       "\n",
       "  Lost Item Location  \n",
       "0              Other  \n",
       "1              Other  \n",
       "2              Other  \n",
       "3              Other  \n",
       "4                NaN  "
      ]
     },
     "execution_count": 2,
     "metadata": {},
     "output_type": "execute_result"
    }
   ],
   "source": [
    "url = \"https://lostandfound.ubc.ca/all-items/export.csv\"\n",
    "df = pd.read_csv(url)\n",
    "\n",
    "df.head()"
   ]
  },
  {
   "cell_type": "markdown",
   "id": "71d4715a-5b01-45c2-8461-cc13060fae63",
   "metadata": {},
   "source": [
    "## Data Wrangling & Cleaning\n",
    "---"
   ]
  },
  {
   "cell_type": "markdown",
   "id": "3def1a66-1cb3-495f-8ca9-41b2ec5c7567",
   "metadata": {},
   "source": [
    "### Cleaning the data"
   ]
  },
  {
   "cell_type": "markdown",
   "id": "631b60db-f911-4a41-8ce5-8c34563fee76",
   "metadata": {},
   "source": [
    "## Exploratory Data Analysis\n",
    "--- "
   ]
  }
 ],
 "metadata": {
  "kernelspec": {
   "display_name": "Python 3 (ipykernel)",
   "language": "python",
   "name": "python3"
  },
  "language_info": {
   "codemirror_mode": {
    "name": "ipython",
    "version": 3
   },
   "file_extension": ".py",
   "mimetype": "text/x-python",
   "name": "python",
   "nbconvert_exporter": "python",
   "pygments_lexer": "ipython3",
   "version": "3.10.5"
  }
 },
 "nbformat": 4,
 "nbformat_minor": 5
}
