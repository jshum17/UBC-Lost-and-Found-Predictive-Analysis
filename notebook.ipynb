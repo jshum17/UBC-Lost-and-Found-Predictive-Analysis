{
 "cells": [
  {
   "cell_type": "markdown",
   "id": "9949a49c-39c7-434f-841a-b262770fab01",
   "metadata": {},
   "source": [
    "# UBC Lost & Found Predictive Analysis"
   ]
  },
  {
   "cell_type": "markdown",
   "id": "a11fed41-cd05-423f-ba93-da1d3ff1fdec",
   "metadata": {},
   "source": [
    "<img src=\"./img/access.jpg\" alt=\"drawing\" style=\"width:90%;\"/>\n",
    "Access Services. Retrieved from <a href = \"https://parking.ubc.ca/\">UBC Parking</a> "
   ]
  },
  {
   "cell_type": "markdown",
   "id": "2d28cfb6-dc73-42b2-831c-b5bd62adcc71",
   "metadata": {},
   "source": [
    "## Introduction \n",
    "---"
   ]
  },
  {
   "cell_type": "markdown",
   "id": "bba275b4-9b5b-4ffb-92e5-e862b961fb6f",
   "metadata": {},
   "source": [
    "Losing personal belongings is a common and often frustrating experience for students and staff at UBC. Items ranging from everyday essentials like wallets and keys to electronics and jewelry frequently end up in the lost and found. While the university maintains a central lost and found system, the lack of systematic analysis in these services can lead to inefficiencies, making it harder to identify trends and optimize recovery processes. By analyzing the UBC lost and found dataset, this project aims to uncover patterns in lost items, predict future trends, and provide actionable insights to enhance the efficiency of UBC's lost and found services.\n",
    "\n",
    "**Objectives**: \n",
    "- **Item Classification Analysis**: Identify the most frequently lost item categories (e.g., electronics, wallets, keys).\n",
    "- **Temporal Analysis**: Examine seasonal and daily trends in lost item reports.\n",
    "- **Location Analysis**: Identify the most common campus locations where items are lost and found.\n",
    "- **Item Description Analysis**: Group similar items based on \"Item Description\" to identify detailed subcategories of lost items using NLP techniques\n",
    "- **Time Series Forecasting**: Develop predictive models to forecast the number of items reported to the lost and found using historical data.\n",
    "- **Recommendations**: Provide actionable recommendations to improve the lost and found system, including targeted awareness campaigns, optimized item storage, and enhanced communication channels.\n"
   ]
  },
  {
   "cell_type": "markdown",
   "id": "321ca4d9-7e77-447d-8972-8bacf195b9f7",
   "metadata": {},
   "source": [
    "## Dataset\n",
    "---"
   ]
  },
  {
   "cell_type": "markdown",
   "id": "feedeccf-5719-47b3-b951-7044b5e0adab",
   "metadata": {},
   "source": [
    "The [UBC Lost and Found database](https://lostandfound.ubc.ca/all-items) is a publicly accessible dataset containing information about items reported lost within the University of British Columbia campus. The dataset spans from May 2024 to the current day, with over 150 entries. Each entry includes details such as the item type, description, date lost, and location. We will be using the dataset retrieved as of January 2025 for the project."
   ]
  },
  {
   "cell_type": "markdown",
   "id": "a62986e5-aac8-44f9-847d-f586740e3754",
   "metadata": {},
   "source": [
    "### Loading libraries"
   ]
  },
  {
   "cell_type": "code",
   "execution_count": 1,
   "id": "be61ed27-a860-4f8c-8ba1-2c0980643fbd",
   "metadata": {},
   "outputs": [],
   "source": [
    "import pandas as pd\n",
    "import matplotlib.pyplot as plt\n",
    "import numpy as np\n",
    "import seaborn as sns\n",
    "import mglearn\n",
    "import spacy\n",
    "from sklearn.feature_extraction.text import CountVectorizer\n",
    "from sklearn.decomposition import LatentDirichletAllocation\n",
    "from nltk.corpus import stopwords"
   ]
  },
  {
   "cell_type": "markdown",
   "id": "c35d3486-e474-4385-bf3c-52b41e75681d",
   "metadata": {},
   "source": [
    "### Importing the data"
   ]
  },
  {
   "cell_type": "code",
   "execution_count": 2,
   "id": "6616fe32-abd8-439d-b737-13b6dc7d6a0f",
   "metadata": {},
   "outputs": [
    {
     "data": {
      "text/html": [
       "<div>\n",
       "<style scoped>\n",
       "    .dataframe tbody tr th:only-of-type {\n",
       "        vertical-align: middle;\n",
       "    }\n",
       "\n",
       "    .dataframe tbody tr th {\n",
       "        vertical-align: top;\n",
       "    }\n",
       "\n",
       "    .dataframe thead th {\n",
       "        text-align: right;\n",
       "    }\n",
       "</style>\n",
       "<table border=\"1\" class=\"dataframe\">\n",
       "  <thead>\n",
       "    <tr style=\"text-align: right;\">\n",
       "      <th></th>\n",
       "      <th>Ticket Number</th>\n",
       "      <th>Item Type</th>\n",
       "      <th>Status</th>\n",
       "      <th>Item Description</th>\n",
       "      <th>Lost Item Location</th>\n",
       "    </tr>\n",
       "    <tr>\n",
       "      <th>Date</th>\n",
       "      <th></th>\n",
       "      <th></th>\n",
       "      <th></th>\n",
       "      <th></th>\n",
       "      <th></th>\n",
       "    </tr>\n",
       "  </thead>\n",
       "  <tbody>\n",
       "    <tr>\n",
       "      <th>January 17, 2025</th>\n",
       "      <td>47182</td>\n",
       "      <td>Jewelry</td>\n",
       "      <td>Lost</td>\n",
       "      <td>Metal Watch</td>\n",
       "      <td>Library</td>\n",
       "    </tr>\n",
       "    <tr>\n",
       "      <th>January 16, 2025</th>\n",
       "      <td>47181</td>\n",
       "      <td>Jewelry</td>\n",
       "      <td>Lost</td>\n",
       "      <td>Two tone Ring</td>\n",
       "      <td>Other</td>\n",
       "    </tr>\n",
       "    <tr>\n",
       "      <th>January 16, 2025</th>\n",
       "      <td>47180</td>\n",
       "      <td>Jewelry</td>\n",
       "      <td>Lost</td>\n",
       "      <td>Plain Ring</td>\n",
       "      <td>Other</td>\n",
       "    </tr>\n",
       "    <tr>\n",
       "      <th>January 16, 2025</th>\n",
       "      <td>47179</td>\n",
       "      <td>Jewelry</td>\n",
       "      <td>Lost</td>\n",
       "      <td>Ring with Stone</td>\n",
       "      <td>Other</td>\n",
       "    </tr>\n",
       "    <tr>\n",
       "      <th>January 16, 2025</th>\n",
       "      <td>47178</td>\n",
       "      <td>Keys</td>\n",
       "      <td>Lost</td>\n",
       "      <td>Single Key with wrist Ring</td>\n",
       "      <td>Other</td>\n",
       "    </tr>\n",
       "  </tbody>\n",
       "</table>\n",
       "</div>"
      ],
      "text/plain": [
       "                  Ticket Number Item Type Status            Item Description  \\\n",
       "Date                                                                           \n",
       "January 17, 2025          47182   Jewelry   Lost                 Metal Watch   \n",
       "January 16, 2025          47181   Jewelry   Lost               Two tone Ring   \n",
       "January 16, 2025          47180   Jewelry   Lost                  Plain Ring   \n",
       "January 16, 2025          47179   Jewelry   Lost             Ring with Stone   \n",
       "January 16, 2025          47178      Keys   Lost  Single Key with wrist Ring   \n",
       "\n",
       "                 Lost Item Location  \n",
       "Date                                 \n",
       "January 17, 2025            Library  \n",
       "January 16, 2025              Other  \n",
       "January 16, 2025              Other  \n",
       "January 16, 2025              Other  \n",
       "January 16, 2025              Other  "
      ]
     },
     "execution_count": 2,
     "metadata": {},
     "output_type": "execute_result"
    }
   ],
   "source": [
    "url = \"https://lostandfound.ubc.ca/all-items/export.csv\"\n",
    "df = pd.read_csv(url, index_col = \"Date\")\n",
    "\n",
    "df.head()"
   ]
  },
  {
   "cell_type": "markdown",
   "id": "71d4715a-5b01-45c2-8461-cc13060fae63",
   "metadata": {},
   "source": [
    "## Data Wrangling & Cleaning\n",
    "---"
   ]
  },
  {
   "cell_type": "markdown",
   "id": "91bf1451-838f-4d6d-b382-9aca9e2c6ef4",
   "metadata": {},
   "source": [
    "### Examining the data"
   ]
  },
  {
   "cell_type": "markdown",
   "id": "a63c750c-d161-4f2c-9ad0-8eb623c63460",
   "metadata": {},
   "source": [
    "We begin by exploring the dataset to understand its structure."
   ]
  },
  {
   "cell_type": "code",
   "execution_count": 3,
   "id": "0a982e5c-25e9-49cc-a5c1-4ed83cdac718",
   "metadata": {},
   "outputs": [
    {
     "name": "stdout",
     "output_type": "stream",
     "text": [
      "<class 'pandas.core.frame.DataFrame'>\n",
      "Index: 159 entries, January 17, 2025 to May 31, 2024\n",
      "Data columns (total 5 columns):\n",
      " #   Column              Non-Null Count  Dtype \n",
      "---  ------              --------------  ----- \n",
      " 0   Ticket Number       159 non-null    int64 \n",
      " 1   Item Type           159 non-null    object\n",
      " 2   Status              157 non-null    object\n",
      " 3   Item Description    159 non-null    object\n",
      " 4   Lost Item Location  117 non-null    object\n",
      "dtypes: int64(1), object(4)\n",
      "memory usage: 7.5+ KB\n"
     ]
    }
   ],
   "source": [
    "df.info()"
   ]
  },
  {
   "cell_type": "code",
   "execution_count": 4,
   "id": "60418123-6c93-4d8e-851e-ef8fc464746d",
   "metadata": {},
   "outputs": [
    {
     "data": {
      "text/html": [
       "<div>\n",
       "<style scoped>\n",
       "    .dataframe tbody tr th:only-of-type {\n",
       "        vertical-align: middle;\n",
       "    }\n",
       "\n",
       "    .dataframe tbody tr th {\n",
       "        vertical-align: top;\n",
       "    }\n",
       "\n",
       "    .dataframe thead th {\n",
       "        text-align: right;\n",
       "    }\n",
       "</style>\n",
       "<table border=\"1\" class=\"dataframe\">\n",
       "  <thead>\n",
       "    <tr style=\"text-align: right;\">\n",
       "      <th></th>\n",
       "      <th>Ticket Number</th>\n",
       "      <th>Item Type</th>\n",
       "      <th>Status</th>\n",
       "      <th>Item Description</th>\n",
       "      <th>Lost Item Location</th>\n",
       "    </tr>\n",
       "  </thead>\n",
       "  <tbody>\n",
       "    <tr>\n",
       "      <th>count</th>\n",
       "      <td>159.000000</td>\n",
       "      <td>159</td>\n",
       "      <td>157</td>\n",
       "      <td>159</td>\n",
       "      <td>117</td>\n",
       "    </tr>\n",
       "    <tr>\n",
       "      <th>unique</th>\n",
       "      <td>NaN</td>\n",
       "      <td>7</td>\n",
       "      <td>1</td>\n",
       "      <td>141</td>\n",
       "      <td>4</td>\n",
       "    </tr>\n",
       "    <tr>\n",
       "      <th>top</th>\n",
       "      <td>NaN</td>\n",
       "      <td>Electronics</td>\n",
       "      <td>Lost</td>\n",
       "      <td>Ear buds with case</td>\n",
       "      <td>Other</td>\n",
       "    </tr>\n",
       "    <tr>\n",
       "      <th>freq</th>\n",
       "      <td>NaN</td>\n",
       "      <td>62</td>\n",
       "      <td>157</td>\n",
       "      <td>3</td>\n",
       "      <td>93</td>\n",
       "    </tr>\n",
       "    <tr>\n",
       "      <th>mean</th>\n",
       "      <td>47067.710692</td>\n",
       "      <td>NaN</td>\n",
       "      <td>NaN</td>\n",
       "      <td>NaN</td>\n",
       "      <td>NaN</td>\n",
       "    </tr>\n",
       "    <tr>\n",
       "      <th>std</th>\n",
       "      <td>71.056881</td>\n",
       "      <td>NaN</td>\n",
       "      <td>NaN</td>\n",
       "      <td>NaN</td>\n",
       "      <td>NaN</td>\n",
       "    </tr>\n",
       "    <tr>\n",
       "      <th>min</th>\n",
       "      <td>46923.000000</td>\n",
       "      <td>NaN</td>\n",
       "      <td>NaN</td>\n",
       "      <td>NaN</td>\n",
       "      <td>NaN</td>\n",
       "    </tr>\n",
       "    <tr>\n",
       "      <th>25%</th>\n",
       "      <td>47009.500000</td>\n",
       "      <td>NaN</td>\n",
       "      <td>NaN</td>\n",
       "      <td>NaN</td>\n",
       "      <td>NaN</td>\n",
       "    </tr>\n",
       "    <tr>\n",
       "      <th>50%</th>\n",
       "      <td>47068.000000</td>\n",
       "      <td>NaN</td>\n",
       "      <td>NaN</td>\n",
       "      <td>NaN</td>\n",
       "      <td>NaN</td>\n",
       "    </tr>\n",
       "    <tr>\n",
       "      <th>75%</th>\n",
       "      <td>47127.500000</td>\n",
       "      <td>NaN</td>\n",
       "      <td>NaN</td>\n",
       "      <td>NaN</td>\n",
       "      <td>NaN</td>\n",
       "    </tr>\n",
       "    <tr>\n",
       "      <th>max</th>\n",
       "      <td>47182.000000</td>\n",
       "      <td>NaN</td>\n",
       "      <td>NaN</td>\n",
       "      <td>NaN</td>\n",
       "      <td>NaN</td>\n",
       "    </tr>\n",
       "  </tbody>\n",
       "</table>\n",
       "</div>"
      ],
      "text/plain": [
       "        Ticket Number    Item Type Status    Item Description  \\\n",
       "count      159.000000          159    157                 159   \n",
       "unique            NaN            7      1                 141   \n",
       "top               NaN  Electronics   Lost  Ear buds with case   \n",
       "freq              NaN           62    157                   3   \n",
       "mean     47067.710692          NaN    NaN                 NaN   \n",
       "std         71.056881          NaN    NaN                 NaN   \n",
       "min      46923.000000          NaN    NaN                 NaN   \n",
       "25%      47009.500000          NaN    NaN                 NaN   \n",
       "50%      47068.000000          NaN    NaN                 NaN   \n",
       "75%      47127.500000          NaN    NaN                 NaN   \n",
       "max      47182.000000          NaN    NaN                 NaN   \n",
       "\n",
       "       Lost Item Location  \n",
       "count                 117  \n",
       "unique                  4  \n",
       "top                 Other  \n",
       "freq                   93  \n",
       "mean                  NaN  \n",
       "std                   NaN  \n",
       "min                   NaN  \n",
       "25%                   NaN  \n",
       "50%                   NaN  \n",
       "75%                   NaN  \n",
       "max                   NaN  "
      ]
     },
     "execution_count": 4,
     "metadata": {},
     "output_type": "execute_result"
    }
   ],
   "source": [
    "df.describe(include = \"all\")"
   ]
  },
  {
   "cell_type": "markdown",
   "id": "ee96523e-a148-43e2-83b9-304abbb13b7b",
   "metadata": {},
   "source": [
    "### Handling missing values"
   ]
  },
  {
   "cell_type": "code",
   "execution_count": 5,
   "id": "863c4ded-0a25-4e56-9bb5-d183b0c46554",
   "metadata": {},
   "outputs": [
    {
     "data": {
      "text/plain": [
       "Ticket Number          0\n",
       "Item Type              0\n",
       "Status                 2\n",
       "Item Description       0\n",
       "Lost Item Location    42\n",
       "dtype: int64"
      ]
     },
     "execution_count": 5,
     "metadata": {},
     "output_type": "execute_result"
    }
   ],
   "source": [
    "df.isna().sum()"
   ]
  },
  {
   "cell_type": "markdown",
   "id": "4aa294ce-c78d-43da-b871-ccf34b8fa50c",
   "metadata": {},
   "source": [
    "- For the `Lost Item Location` column, missing values will be replaced with \"`Unknown`\" to ensure data completeness.\n",
    "- Missing values in the `Status` column are minimal (2 rows) and will not be addressed as they have no impact on analysis."
   ]
  },
  {
   "cell_type": "code",
   "execution_count": 6,
   "id": "fe949e89-ef96-47b1-b912-630ba9151d4b",
   "metadata": {},
   "outputs": [],
   "source": [
    "value = {\"Lost Item Location\": \"Unknown\"}\n",
    "df.fillna(value=value, inplace=True)"
   ]
  },
  {
   "cell_type": "markdown",
   "id": "3508210b-370d-4b2f-9c64-bfcc592329fe",
   "metadata": {},
   "source": [
    "### Datetime Conversion"
   ]
  },
  {
   "cell_type": "markdown",
   "id": "a5dde2c2-adcd-42fd-874e-10923c17f9c2",
   "metadata": {},
   "source": [
    "To facilitate temporal analysis, the `Date` index is converted to a proper datetime object. Additional features like `Year`, `Month`, and `Weekday` are also extracted."
   ]
  },
  {
   "cell_type": "code",
   "execution_count": 7,
   "id": "fbc7b354-1a6d-4eaa-95a9-76bd9ff0b497",
   "metadata": {},
   "outputs": [],
   "source": [
    "df.index = pd.to_datetime(df.index)\n",
    "df['Year'] = df.index.year\n",
    "df['Month'] = df.index.month_name()\n",
    "df['Weekday'] = df.index.day_name()"
   ]
  },
  {
   "cell_type": "markdown",
   "id": "3def1a66-1cb3-495f-8ca9-41b2ec5c7567",
   "metadata": {},
   "source": [
    "### Cleaning the data"
   ]
  },
  {
   "cell_type": "markdown",
   "id": "751478e8-8456-4a6b-97cb-4267b9d858dc",
   "metadata": {},
   "source": [
    "To finalize the data preparation, we will check for any duplicated values and ensure chronological consistency by sorting the dataset by date."
   ]
  },
  {
   "cell_type": "code",
   "execution_count": 8,
   "id": "854bda57-b655-4eda-8343-c37532d36657",
   "metadata": {},
   "outputs": [
    {
     "name": "stdout",
     "output_type": "stream",
     "text": [
      "Number of duplicates: 0\n"
     ]
    }
   ],
   "source": [
    "print(f\"Number of duplicates: {df.duplicated().sum()}\")"
   ]
  },
  {
   "cell_type": "code",
   "execution_count": 9,
   "id": "fd2d7c72-d137-494d-b21d-0812368ad403",
   "metadata": {},
   "outputs": [],
   "source": [
    "df = df.sort_values('Date', ascending=True)"
   ]
  },
  {
   "cell_type": "markdown",
   "id": "7069d40f-6313-4305-8962-548e617034e9",
   "metadata": {},
   "source": [
    "After cleaning, the dataset is sorted by date. Below is a preview of the first five rows:"
   ]
  },
  {
   "cell_type": "code",
   "execution_count": 10,
   "id": "f3ba00fb-0f53-46ea-8bcb-d9d7dcc027aa",
   "metadata": {},
   "outputs": [
    {
     "data": {
      "text/html": [
       "<div>\n",
       "<style scoped>\n",
       "    .dataframe tbody tr th:only-of-type {\n",
       "        vertical-align: middle;\n",
       "    }\n",
       "\n",
       "    .dataframe tbody tr th {\n",
       "        vertical-align: top;\n",
       "    }\n",
       "\n",
       "    .dataframe thead th {\n",
       "        text-align: right;\n",
       "    }\n",
       "</style>\n",
       "<table border=\"1\" class=\"dataframe\">\n",
       "  <thead>\n",
       "    <tr style=\"text-align: right;\">\n",
       "      <th></th>\n",
       "      <th>Ticket Number</th>\n",
       "      <th>Item Type</th>\n",
       "      <th>Status</th>\n",
       "      <th>Item Description</th>\n",
       "      <th>Lost Item Location</th>\n",
       "      <th>Year</th>\n",
       "      <th>Month</th>\n",
       "      <th>Weekday</th>\n",
       "    </tr>\n",
       "    <tr>\n",
       "      <th>Date</th>\n",
       "      <th></th>\n",
       "      <th></th>\n",
       "      <th></th>\n",
       "      <th></th>\n",
       "      <th></th>\n",
       "      <th></th>\n",
       "      <th></th>\n",
       "      <th></th>\n",
       "    </tr>\n",
       "  </thead>\n",
       "  <tbody>\n",
       "    <tr>\n",
       "      <th>2024-05-31</th>\n",
       "      <td>46923</td>\n",
       "      <td>Jewelry</td>\n",
       "      <td>Lost</td>\n",
       "      <td>Woman's ring</td>\n",
       "      <td>Library</td>\n",
       "      <td>2024</td>\n",
       "      <td>May</td>\n",
       "      <td>Friday</td>\n",
       "    </tr>\n",
       "    <tr>\n",
       "      <th>2024-06-05</th>\n",
       "      <td>46927</td>\n",
       "      <td>Electronics</td>\n",
       "      <td>Lost</td>\n",
       "      <td>Digital Pen</td>\n",
       "      <td>Other</td>\n",
       "      <td>2024</td>\n",
       "      <td>June</td>\n",
       "      <td>Wednesday</td>\n",
       "    </tr>\n",
       "    <tr>\n",
       "      <th>2024-06-05</th>\n",
       "      <td>46925</td>\n",
       "      <td>Keys</td>\n",
       "      <td>Lost</td>\n",
       "      <td>Single key on ring</td>\n",
       "      <td>Library</td>\n",
       "      <td>2024</td>\n",
       "      <td>June</td>\n",
       "      <td>Wednesday</td>\n",
       "    </tr>\n",
       "    <tr>\n",
       "      <th>2024-06-05</th>\n",
       "      <td>46926</td>\n",
       "      <td>Jewelry</td>\n",
       "      <td>Lost</td>\n",
       "      <td>Silver ear ring</td>\n",
       "      <td>Library</td>\n",
       "      <td>2024</td>\n",
       "      <td>June</td>\n",
       "      <td>Wednesday</td>\n",
       "    </tr>\n",
       "    <tr>\n",
       "      <th>2024-06-05</th>\n",
       "      <td>46928</td>\n",
       "      <td>Jewelry</td>\n",
       "      <td>Lost</td>\n",
       "      <td>Ear ring (beaded)</td>\n",
       "      <td>Library</td>\n",
       "      <td>2024</td>\n",
       "      <td>June</td>\n",
       "      <td>Wednesday</td>\n",
       "    </tr>\n",
       "  </tbody>\n",
       "</table>\n",
       "</div>"
      ],
      "text/plain": [
       "            Ticket Number    Item Type Status    Item Description  \\\n",
       "Date                                                                \n",
       "2024-05-31          46923      Jewelry   Lost        Woman's ring   \n",
       "2024-06-05          46927  Electronics   Lost         Digital Pen   \n",
       "2024-06-05          46925         Keys   Lost  Single key on ring   \n",
       "2024-06-05          46926      Jewelry   Lost     Silver ear ring   \n",
       "2024-06-05          46928      Jewelry   Lost   Ear ring (beaded)   \n",
       "\n",
       "           Lost Item Location  Year Month    Weekday  \n",
       "Date                                                  \n",
       "2024-05-31            Library  2024   May     Friday  \n",
       "2024-06-05              Other  2024  June  Wednesday  \n",
       "2024-06-05            Library  2024  June  Wednesday  \n",
       "2024-06-05            Library  2024  June  Wednesday  \n",
       "2024-06-05            Library  2024  June  Wednesday  "
      ]
     },
     "execution_count": 10,
     "metadata": {},
     "output_type": "execute_result"
    }
   ],
   "source": [
    "df.head()"
   ]
  },
  {
   "cell_type": "markdown",
   "id": "631b60db-f911-4a41-8ce5-8c34563fee76",
   "metadata": {},
   "source": [
    "## Exploratory Data Analysis\n",
    "--- "
   ]
  },
  {
   "cell_type": "markdown",
   "id": "7137dd02-6d84-4431-a567-180848e73afc",
   "metadata": {},
   "source": [
    "### Item Classification Analysis"
   ]
  },
  {
   "cell_type": "markdown",
   "id": "61b07943-3a2f-4b23-b3ca-d869f4bd3462",
   "metadata": {},
   "source": [
    "**Objective**: Identify the most frequently lost item categories."
   ]
  },
  {
   "cell_type": "code",
   "execution_count": 11,
   "id": "8fc4360e-3338-483e-8ccf-e6faed113f0b",
   "metadata": {},
   "outputs": [
    {
     "data": {
      "image/png": "[encoded data removed]",
      "text/plain": [
       "<Figure size 1400x600 with 1 Axes>"
      ]
     },
     "metadata": {},
     "output_type": "display_data"
    }
   ],
   "source": [
    "item_counts = df['Item Type'].value_counts()\n",
    "\n",
    "fig, ax = plt.subplots()\n",
    "fig.set_size_inches(14, 6)\n",
    "ax = sns.barplot(x=item_counts.index, y=item_counts.values, palette='viridis_r', hue = item_counts.values, legend = False)\n",
    "ax.set_xlabel(\"Item Type\", fontsize = 12)\n",
    "ax.set_ylabel(\"Count\", fontsize = 12)\n",
    "ax.set_title(\"Most Frequently Lost Item Categories\", fontsize = 14)\n",
    "\n",
    "for i in ax.containers:\n",
    "    ax.bar_label(i)\n",
    "    \n",
    "plt.show()"
   ]
  },
  {
   "cell_type": "markdown",
   "id": "c00e1004-eeed-4618-a803-46edcfc99ca6",
   "metadata": {},
   "source": [
    "The bar plot above illustrates the distribution of lost items by type, highlighting the most frequently reported categories in the dataset. Electronics are the most commonly lost items, accounting for 62 reports, followed by keys with 44 reports and jewelry with 29 reports. Other categories, such as wallets and phones, are less frequent, while items classified as \"Other\" and bag/pack/case are rarely reported.\n",
    "\n",
    "The analysis shows that certain item types, particularly electronics and keys, dominate the dataset. These findings suggest that targeted awareness campaigns or recovery strategies should focus on these high-frequency categories to maximize the effectiveness of lost and found services."
   ]
  },
  {
   "cell_type": "markdown",
   "id": "a83fc67a-a388-4972-91a2-f8dbd60929bb",
   "metadata": {},
   "source": [
    "### Temporal Analysis"
   ]
  },
  {
   "cell_type": "markdown",
   "id": "686029b1-bead-48a2-affb-d48390ae3dd8",
   "metadata": {},
   "source": [
    "**Objective**: Examine seasonal and daily trends in lost item reports."
   ]
  },
  {
   "cell_type": "markdown",
   "id": "68146a73-3edb-4783-98d9-04944c3967ee",
   "metadata": {},
   "source": [
    "#### Monthly Trends"
   ]
  },
  {
   "cell_type": "code",
   "execution_count": 12,
   "id": "78191420-7abb-404c-bc5c-0f062e8007d2",
   "metadata": {},
   "outputs": [
    {
     "data": {
      "image/png": "[encoded data removed]",
      "text/plain": [
       "<Figure size 1400x600 with 1 Axes>"
      ]
     },
     "metadata": {},
     "output_type": "display_data"
    }
   ],
   "source": [
    "monthly_counts = df['Month'].value_counts().reindex(\n",
    "    [\"January\", \"February\", \"March\", \"April\", \"May\", \"June\", \n",
    "     \"July\", \"August\", \"September\", \"October\", \"November\", \"December\"])\n",
    "monthly_counts.fillna(0, inplace = True)\n",
    "\n",
    "fig, ax = plt.subplots()\n",
    "fig.set_size_inches(14, 6)\n",
    "ax = sns.barplot(x=monthly_counts.index, y=monthly_counts.values, palette='viridis_r', hue = monthly_counts.values, legend = False)\n",
    "ax.set_xlabel(\"Item Type\", fontsize = 12)\n",
    "ax.set_ylabel(\"Count\", fontsize = 12)\n",
    "ax.set_title(\"Monthly Trends in Lost Items\", fontsize = 14)\n",
    "\n",
    "for i in ax.containers:\n",
    "    ax.bar_label(i)\n",
    "    \n",
    "plt.show()"
   ]
  },
  {
   "cell_type": "markdown",
   "id": "114896f5-3ef0-4bd8-b08f-7f7f5201dded",
   "metadata": {},
   "source": [
    "The bar plot above highlights the number of lost items each month. Key observations include:\n",
    "- October has the highest number of reports with 36 lost items, followed closely by September (32) and January (27)\n",
    "- There is a noticeable absence of data for February, March, and April, so no conclusions can be drawn about lost item trends during these months\n",
    "- The months of May, June, and July show low to moderate activity, ranging from 1 to 6 lost items.\n",
    "\n",
    "These monthly trends suggest that the frequency of lost items follow closely with the university's academic calendar. Peaks in lost items during September, October, and January may correspond to the start of the academic term, where student activity on campus is at its peak. Conversely, the low counts during the summer months suggest that there are fewer people on campus."
   ]
  },
  {
   "cell_type": "markdown",
   "id": "7bf37e3e-f963-404d-a895-3d4e7593e160",
   "metadata": {},
   "source": [
    "#### Weekday Trends Across Months"
   ]
  },
  {
   "cell_type": "code",
   "execution_count": 13,
   "id": "c279b7b7-a80a-43a8-8d7c-6c8177fcd1c2",
   "metadata": {},
   "outputs": [
    {
     "data": {
      "image/png": "[encoded data removed]",
      "text/plain": [
       "<Figure size 1400x600 with 2 Axes>"
      ]
     },
     "metadata": {},
     "output_type": "display_data"
    }
   ],
   "source": [
    "weekday_counts = pd.crosstab(df['Weekday'], df['Month'], margins = True)\n",
    "weekday_counts = weekday_counts.reindex(index = [\"Monday\", \"Tuesday\", \"Wednesday\", \"Thursday\", \"Friday\", \"Saturday\", \n",
    "     \"Sunday\"], columns = [\"January\", \"February\", \"March\", \"April\", \"May\", \"June\", \n",
    "     \"July\", \"August\", \"September\", \"October\", \"November\", \"December\"])\n",
    "weekday_counts.fillna(0, inplace = True)\n",
    "weekday_counts = weekday_counts.astype(\"int\")\n",
    "\n",
    "fig, ax = plt.subplots()\n",
    "fig.set_size_inches(14, 6)\n",
    "ax = sns.heatmap(weekday_counts, cmap=\"viridis\", annot=True, fmt='d')\n",
    "ax.set_xlabel(\"Month\", fontsize = 12)\n",
    "ax.set_ylabel(\"Weekday\", fontsize = 12)\n",
    "ax.set_title(\"Lost Items by Weekday and Month\", fontsize = 14)\n",
    "\n",
    "plt.show()"
   ]
  },
  {
   "cell_type": "markdown",
   "id": "6bb25e6d-1816-41a1-85a9-a7fdd23ade14",
   "metadata": {},
   "source": [
    "The heatmap above provides a detailed breakdown of lost item reports by weekday and month. Key insights include:\n",
    "\n",
    "- Tuesday consistently shows higher reports, especially during October and November, where it peaks at 14 and 12 lost items, respectively\n",
    "- Monday, Thursday and Friday show moderate activity, particularly during August to October\n",
    "- Weekend days (Saturday and Sunday) have significantly lower lost item reports, which reflects lower campus activity on these days\n",
    "\n",
    "This shows that weekday trends also follow closely with the university's schedule, with the most reports during active weekdays and fewer during weekends or months when the campus is less busy."
   ]
  },
  {
   "cell_type": "markdown",
   "id": "7f3c0b49-32e7-4537-85c2-c6230fdd8276",
   "metadata": {},
   "source": [
    "### Location Analysis"
   ]
  },
  {
   "cell_type": "markdown",
   "id": "3d069dce-528f-4e73-a46a-b21b7ebcc4d8",
   "metadata": {},
   "source": [
    "**Objective**: Identify the most common campus locations where items are lost."
   ]
  },
  {
   "cell_type": "code",
   "execution_count": 14,
   "id": "6e854f43-d71c-4eef-8b89-2bfc080dd37f",
   "metadata": {},
   "outputs": [
    {
     "data": {
      "image/png": "[encoded data removed]",
      "text/plain": [
       "<Figure size 1400x600 with 1 Axes>"
      ]
     },
     "metadata": {},
     "output_type": "display_data"
    }
   ],
   "source": [
    "location_counts = df['Lost Item Location'].value_counts()\n",
    "location_counts\n",
    "\n",
    "fig, ax = plt.subplots()\n",
    "fig.set_size_inches(14, 6)\n",
    "color = sns.color_palette('viridis') \n",
    "ax.pie(x = location_counts.values, labels =location_counts.index, autopct = '%1.1f%%', colors = color)\n",
    "ax.set_xlabel(\"Location\", fontsize = 12)\n",
    "ax.set_ylabel(\"Count\", fontsize = 12)\n",
    "ax.set_title(\"Most Frequently Lost Item Location\", fontsize = 14)\n",
    "\n",
    "plt.show()"
   ]
  },
  {
   "cell_type": "markdown",
   "id": "338b92d3-5682-4b41-b987-3d1a9a7203b0",
   "metadata": {},
   "source": [
    "The pie chart illustrates the distribution of lost items across various campus locations:\n",
    "\n",
    "- \"Other\" accounts for 65.9% of all reports. This category likely represents locations not explicitly listed or frequently visited but less defined spaces.\n",
    "- \"Unknown\" makes up the second-largest segment, with 29.8%. These entries highlight cases where the precise location of the lost item was not specified, emphasizing the need for more detailed reporting.\n",
    "- Among the specified locations:\n",
    "   - The Library recorded 12.8% of all reports, making it the most common explicitly named location for lost items likely to high traffic and prolonged usage by students.\n",
    "   - The NEST and Pedestrian Area both make up 2.1% of reports, indicating relatively low activity compared to other categories."
   ]
  },
  {
   "cell_type": "markdown",
   "id": "64949f76-c5b5-4800-b56f-9f926abb3a06",
   "metadata": {},
   "source": [
    "### Item Description Analysis"
   ]
  },
  {
   "cell_type": "markdown",
   "id": "96286d19-e114-4a8f-b88a-54d51080c532",
   "metadata": {},
   "source": [
    "**Objective**: To group similar items based on \"Item Description\" and identify detailed subcategories of lost items, we applied natural language processing (NLP) techniques. This analysis aims to extract meaningful features and uncover underlying themes to better understand the types of items frequently lost.\n"
   ]
  },
  {
   "cell_type": "markdown",
   "id": "6a8435d3-ca50-4acc-ad98-b882c6746b87",
   "metadata": {},
   "source": [
    "#### Preprocessing"
   ]
  },
  {
   "cell_type": "code",
   "execution_count": 15,
   "id": "4f53295d-1259-449f-80fb-d5a5ebd0088b",
   "metadata": {},
   "outputs": [],
   "source": [
    "nlp = spacy.load(\"en_core_web_md\", disable=[\"parser\", \"ner\"])\n",
    "\n",
    "def preprocess(\n",
    "    doc\n",
    "):\n",
    "    clean_text = []\n",
    "\n",
    "    for token in doc:\n",
    "        if (\n",
    "            token.is_stop == False \n",
    "            and token.is_punct == False\n",
    "            and token.is_alpha == True\n",
    "        ):\n",
    "            lemma = token.lemma_\n",
    "            clean_text.append(lemma.lower())\n",
    "    return \" \".join(clean_text)\n",
    "\n",
    "df[\"Cleaned Item Description\"] = [preprocess(text) for text in nlp.pipe(df[\"Item Description\"])]"
   ]
  },
  {
   "cell_type": "markdown",
   "id": "03f24fd5-b9af-477a-9ca7-7c1e716d2d92",
   "metadata": {},
   "source": [
    "We used the `spaCy` library to preprocess the item descriptions. The preprocessing steps included:\n",
    "\n",
    "1. Removing stop words: Eliminates common but uninformative words like \"the\" or \"and.\"\n",
    "2. Removing punctuation and non-alphabetic characters: Focused on meaningful textual data.\n",
    "3. Lemmatization: Reduced words to their base forms (e.g., \"keys\" to \"key\") for better grouping.\n",
    "\n",
    "The cleaned descriptions were stored in a new column, `Cleaned Item Description`"
   ]
  },
  {
   "cell_type": "markdown",
   "id": "c0141423-f680-440c-8ee3-79f7eaa62072",
   "metadata": {},
   "source": [
    "#### Topic Modeling"
   ]
  },
  {
   "cell_type": "code",
   "execution_count": 16,
   "id": "f88806af-13aa-4174-a198-3cdeb9b8efaa",
   "metadata": {},
   "outputs": [],
   "source": [
    "vectorizer = CountVectorizer(stop_words=stopwords.words('english'), max_features=500, ngram_range=(1, 3))\n",
    "document = vectorizer.fit_transform(df['Cleaned Item Description'])\n",
    "\n",
    "n_topics = 7\n",
    "lda = LatentDirichletAllocation(n_components=n_topics, random_state=42, learning_decay = 0.8)\n",
    "lda.fit(document)\n",
    "\n",
    "document_topics = lda.transform(document)"
   ]
  },
  {
   "cell_type": "markdown",
   "id": "a1ed6232-94c3-4f95-9ddf-3b1c54112ccc",
   "metadata": {},
   "source": [
    "We used Latent Dirichlet Allocation (LDA) for topic modeling. Key steps:\n",
    "\n",
    "- Vectorization: CountVectorizer converted text into numerical format using unigrams, bigrams, and trigrams to capture context. A maximum of 500 features were extracted.\n",
    "- LDA Model: The model identified 7 latent topics, with parameters tuned to optimize learning and topic diversity."
   ]
  },
  {
   "cell_type": "markdown",
   "id": "ba2d9324-1308-4e84-9622-01e9f745d320",
   "metadata": {},
   "source": [
    "Here are the top 7 words associated with each topic:"
   ]
  },
  {
   "cell_type": "code",
   "execution_count": 17,
   "id": "5346083f-cbb5-47c7-9cd0-654971c6712e",
   "metadata": {},
   "outputs": [
    {
     "name": "stdout",
     "output_type": "stream",
     "text": [
      "topic 0       topic 1       topic 2       topic 3       \n",
      "--------      --------      --------      --------      \n",
      "key           case          ear           card          \n",
      "ring          airpod        case          wallet        \n",
      "single        bracelet      ear bud       holder        \n",
      "single key    air           bud           card holder   \n",
      "key ring      pods          ear bud case  silver        \n",
      "fob           air pods      bud case      item          \n",
      "lanyard       phone         headphone     card holder wallet\n",
      "\n",
      "\n",
      "topic 4       topic 5       topic 6       \n",
      "--------      --------      --------      \n",
      "watch         car           digital       \n",
      "smart         fob           pen           \n",
      "smart watch   key           pencil        \n",
      "pod           car key       necklace      \n",
      "air           car fob       pendant       \n",
      "air pod       wallet        digital pen   \n",
      "case          key fob       digital pencil\n",
      "\n",
      "\n"
     ]
    }
   ],
   "source": [
    "sorting = np.argsort(lda.components_, axis=1)[:, ::-1]\n",
    "feature_names = np.array(vectorizer.get_feature_names_out())\n",
    "\n",
    "mglearn.tools.print_topics(\n",
    "    topics=range(n_topics),\n",
    "    feature_names=feature_names,\n",
    "    sorting=sorting,\n",
    "    topics_per_chunk=4,\n",
    "    n_words=7,\n",
    ")"
   ]
  },
  {
   "cell_type": "markdown",
   "id": "aa173274-0bf4-473e-92d6-d6209028d766",
   "metadata": {},
   "source": [
    "The new topics could be interpreted as followed:\n",
    "\n",
    "|Topic\t|Top Words\t|Interpretation|\n",
    "| ---   | ----------|--------------|\n",
    "|0\t|key, ring, single key, fob, lanyard\t|Keys and Accessories|\n",
    "|1\t|case, airpod, bracelet, air pods, phone\t|Cases, AirPods and Phones|\n",
    "|2\t|ear, bud, ear bud case, headphone\t|Headphones and Ear buds|\n",
    "|3\t|card, wallet, card holder, silver\t|Wallets and Cards|\n",
    "|4\t|watch, smart, smart watch\t|Watches|\n",
    "|5\t|car, fob, car key, car fob\t|Car Keys|\n",
    "|6\t|digital, pen, pencil\t|Digital tools & Stationary|"
   ]
  },
  {
   "cell_type": "markdown",
   "id": "26b38a04-f51b-4f78-811f-1f4453c7108b",
   "metadata": {},
   "source": [
    "- **Topic 0 (Keys and Accessories)**: Keys and related accessories, such as rings and lanyards, are frequently lost. Personalized keychains or name tags could improve recovery\n",
    "- **Topic 1 (Cases, AirPods and Phones)**: Phones and small tech accessories are commonly lost. This highlights the importance of tracking devices or softwares\n",
    "- **Topic 2 (Headphones and Ear buds)**: Items like earbuds and headphones are often left behind, which suggests a need of preventive measures such as awareness campaigns\n",
    "- **Topic 3 (Wallets and Cards)**: Valuables like wallets and cards are also commonly lost and require additional attention on campus to improve recovery rates\n",
    "- **Topic 4 (Watches)**: Watches, particularly smartwatches, are significant loss items. Advanced recovery solutions may be necessary\n",
    "- **Topic 5 (Car Keys)**: Car-related items like keys and fobs are small and can be easily lost, reinforcing the need for better awareness measures\n",
    "- **Topic 6 (Digital tools & Stationary)**: Digital tools and writing stationary are often used in classrooms and may easily be left behind. They are a niche but noteworthy category"
   ]
  },
  {
   "cell_type": "code",
   "execution_count": null,
   "id": "22c32ef5-2d87-49bb-a4fc-719bc425fe32",
   "metadata": {},
   "outputs": [],
   "source": []
  }
 ],
 "metadata": {
  "kernelspec": {
   "display_name": "Python 3 (ipykernel)",
   "language": "python",
   "name": "python3"
  },
  "language_info": {
   "codemirror_mode": {
    "name": "ipython",
    "version": 3
   },
   "file_extension": ".py",
   "mimetype": "text/x-python",
   "name": "python",
   "nbconvert_exporter": "python",
   "pygments_lexer": "ipython3",
   "version": "3.10.5"
  }
 },
 "nbformat": 4,
 "nbformat_minor": 5
}
