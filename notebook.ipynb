{
 "cells": [
  {
   "cell_type": "markdown",
   "id": "9949a49c-39c7-434f-841a-b262770fab01",
   "metadata": {},
   "source": [
    "# UBC Lost & Found Predictive Analysis"
   ]
  },
  {
   "cell_type": "markdown",
   "id": "a11fed41-cd05-423f-ba93-da1d3ff1fdec",
   "metadata": {},
   "source": [
    "<img src=\"./img/access.jpg\" alt=\"drawing\" style=\"width:90%;\"/>\n",
    "Access Services. Retrieved from <a href = \"https://parking.ubc.ca/\">UBC Parking</a> "
   ]
  },
  {
   "cell_type": "markdown",
   "id": "2d28cfb6-dc73-42b2-831c-b5bd62adcc71",
   "metadata": {},
   "source": [
    "## Introduction \n",
    "---"
   ]
  },
  {
   "cell_type": "markdown",
   "id": "bba275b4-9b5b-4ffb-92e5-e862b961fb6f",
   "metadata": {},
   "source": [
    "Losing personal belongings is a common and often frustrating experience for students and staff at UBC. Items ranging from everyday essentials like wallets and keys to electronics and jewelry frequently end up in the lost and found. While the university maintains a central lost and found system, the lack of systematic analysis in these services can lead to inefficiencies, making it harder to identify trends and optimize recovery processes. By analyzing the UBC lost and found dataset, this project aims to uncover patterns in lost items, predict future trends, and provide actionable insights to enhance the efficiency of UBC's lost and found services.\n",
    "\n",
    "**Objectives**: \n",
    "- **Item Classification Analysis**: Identify the most frequently lost item categories (e.g., electronics, wallets, keys).\n",
    "- **Temporal Analysis**: Examine seasonal and daily trends in lost item reports.\n",
    "- **Location Analysis**: Identify the most common campus locations where items are lost and found.\n",
    "- **Time Series Forecasting**: Develop predictive models to forecast the number of items reported to the lost and found using historical data.\n",
    "- **Recommendations**: Provide actionable recommendations to improve the lost and found system, including targeted awareness campaigns, optimized item storage, and enhanced communication channels.\n"
   ]
  },
  {
   "cell_type": "markdown",
   "id": "321ca4d9-7e77-447d-8972-8bacf195b9f7",
   "metadata": {},
   "source": [
    "## Dataset\n",
    "---"
   ]
  },
  {
   "cell_type": "markdown",
   "id": "feedeccf-5719-47b3-b951-7044b5e0adab",
   "metadata": {},
   "source": [
    "The [UBC Lost and Found database](https://lostandfound.ubc.ca/all-items) is a publicly accessible dataset containing information about items reported lost within the University of British Columbia campus. The dataset spans from May 2024 to the current day, with over 140 entries. Each entry includes details such as the item type, description, date lost, and location. We will be using the dataset retrieved as of January 2025 for the project."
   ]
  },
  {
   "cell_type": "markdown",
   "id": "a62986e5-aac8-44f9-847d-f586740e3754",
   "metadata": {},
   "source": [
    "### Loading libraries"
   ]
  },
  {
   "cell_type": "code",
   "execution_count": 1,
   "id": "be61ed27-a860-4f8c-8ba1-2c0980643fbd",
   "metadata": {},
   "outputs": [],
   "source": [
    "import pandas as pd\n",
    "import matplotlib.pyplot as plt\n",
    "import numpy as np\n",
    "import seaborn as sns"
   ]
  },
  {
   "cell_type": "markdown",
   "id": "c35d3486-e474-4385-bf3c-52b41e75681d",
   "metadata": {},
   "source": [
    "### Importing the data"
   ]
  },
  {
   "cell_type": "code",
   "execution_count": 2,
   "id": "6616fe32-abd8-439d-b737-13b6dc7d6a0f",
   "metadata": {},
   "outputs": [
    {
     "data": {
      "text/html": [
       "<div>\n",
       "<style scoped>\n",
       "    .dataframe tbody tr th:only-of-type {\n",
       "        vertical-align: middle;\n",
       "    }\n",
       "\n",
       "    .dataframe tbody tr th {\n",
       "        vertical-align: top;\n",
       "    }\n",
       "\n",
       "    .dataframe thead th {\n",
       "        text-align: right;\n",
       "    }\n",
       "</style>\n",
       "<table border=\"1\" class=\"dataframe\">\n",
       "  <thead>\n",
       "    <tr style=\"text-align: right;\">\n",
       "      <th></th>\n",
       "      <th>Ticket Number</th>\n",
       "      <th>Item Type</th>\n",
       "      <th>Status</th>\n",
       "      <th>Item Description</th>\n",
       "      <th>Lost Item Location</th>\n",
       "    </tr>\n",
       "    <tr>\n",
       "      <th>Date</th>\n",
       "      <th></th>\n",
       "      <th></th>\n",
       "      <th></th>\n",
       "      <th></th>\n",
       "      <th></th>\n",
       "    </tr>\n",
       "  </thead>\n",
       "  <tbody>\n",
       "    <tr>\n",
       "      <th>January 14, 2025</th>\n",
       "      <td>47168</td>\n",
       "      <td>Jewelry</td>\n",
       "      <td>Lost</td>\n",
       "      <td>Long Necklace with Pendant</td>\n",
       "      <td>Other</td>\n",
       "    </tr>\n",
       "    <tr>\n",
       "      <th>January 14, 2025</th>\n",
       "      <td>47167</td>\n",
       "      <td>Jewelry</td>\n",
       "      <td>Lost</td>\n",
       "      <td>Necklace chain</td>\n",
       "      <td>Other</td>\n",
       "    </tr>\n",
       "    <tr>\n",
       "      <th>January 14, 2025</th>\n",
       "      <td>47166</td>\n",
       "      <td>Electronics</td>\n",
       "      <td>Lost</td>\n",
       "      <td>Ear Buds and Case</td>\n",
       "      <td>Other</td>\n",
       "    </tr>\n",
       "    <tr>\n",
       "      <th>January 14, 2025</th>\n",
       "      <td>47165</td>\n",
       "      <td>Electronics</td>\n",
       "      <td>Lost</td>\n",
       "      <td>Air Pods with Case</td>\n",
       "      <td>Other</td>\n",
       "    </tr>\n",
       "    <tr>\n",
       "      <th>January 14, 2025</th>\n",
       "      <td>47163</td>\n",
       "      <td>Keys</td>\n",
       "      <td>Lost</td>\n",
       "      <td>Keys and key chains</td>\n",
       "      <td>Other</td>\n",
       "    </tr>\n",
       "  </tbody>\n",
       "</table>\n",
       "</div>"
      ],
      "text/plain": [
       "                  Ticket Number    Item Type Status  \\\n",
       "Date                                                  \n",
       "January 14, 2025          47168      Jewelry   Lost   \n",
       "January 14, 2025          47167      Jewelry   Lost   \n",
       "January 14, 2025          47166  Electronics   Lost   \n",
       "January 14, 2025          47165  Electronics   Lost   \n",
       "January 14, 2025          47163         Keys   Lost   \n",
       "\n",
       "                            Item Description Lost Item Location  \n",
       "Date                                                             \n",
       "January 14, 2025  Long Necklace with Pendant              Other  \n",
       "January 14, 2025              Necklace chain              Other  \n",
       "January 14, 2025           Ear Buds and Case              Other  \n",
       "January 14, 2025          Air Pods with Case              Other  \n",
       "January 14, 2025         Keys and key chains              Other  "
      ]
     },
     "execution_count": 2,
     "metadata": {},
     "output_type": "execute_result"
    }
   ],
   "source": [
    "url = \"https://lostandfound.ubc.ca/all-items/export.csv\"\n",
    "df = pd.read_csv(url, index_col = \"Date\")\n",
    "\n",
    "df.head()"
   ]
  },
  {
   "cell_type": "markdown",
   "id": "71d4715a-5b01-45c2-8461-cc13060fae63",
   "metadata": {},
   "source": [
    "## Data Wrangling & Cleaning\n",
    "---"
   ]
  },
  {
   "cell_type": "markdown",
   "id": "91bf1451-838f-4d6d-b382-9aca9e2c6ef4",
   "metadata": {},
   "source": [
    "### Examining the data"
   ]
  },
  {
   "cell_type": "markdown",
   "id": "a63c750c-d161-4f2c-9ad0-8eb623c63460",
   "metadata": {},
   "source": [
    "We begin by exploring the dataset to understand its structure."
   ]
  },
  {
   "cell_type": "code",
   "execution_count": 3,
   "id": "0a982e5c-25e9-49cc-a5c1-4ed83cdac718",
   "metadata": {},
   "outputs": [
    {
     "name": "stdout",
     "output_type": "stream",
     "text": [
      "<class 'pandas.core.frame.DataFrame'>\n",
      "Index: 145 entries, January 14, 2025 to May 31, 2024\n",
      "Data columns (total 5 columns):\n",
      " #   Column              Non-Null Count  Dtype \n",
      "---  ------              --------------  ----- \n",
      " 0   Ticket Number       145 non-null    int64 \n",
      " 1   Item Type           145 non-null    object\n",
      " 2   Status              143 non-null    object\n",
      " 3   Item Description    145 non-null    object\n",
      " 4   Lost Item Location  103 non-null    object\n",
      "dtypes: int64(1), object(4)\n",
      "memory usage: 6.8+ KB\n"
     ]
    }
   ],
   "source": [
    "df.info()"
   ]
  },
  {
   "cell_type": "code",
   "execution_count": 4,
   "id": "60418123-6c93-4d8e-851e-ef8fc464746d",
   "metadata": {},
   "outputs": [
    {
     "data": {
      "text/html": [
       "<div>\n",
       "<style scoped>\n",
       "    .dataframe tbody tr th:only-of-type {\n",
       "        vertical-align: middle;\n",
       "    }\n",
       "\n",
       "    .dataframe tbody tr th {\n",
       "        vertical-align: top;\n",
       "    }\n",
       "\n",
       "    .dataframe thead th {\n",
       "        text-align: right;\n",
       "    }\n",
       "</style>\n",
       "<table border=\"1\" class=\"dataframe\">\n",
       "  <thead>\n",
       "    <tr style=\"text-align: right;\">\n",
       "      <th></th>\n",
       "      <th>Ticket Number</th>\n",
       "      <th>Item Type</th>\n",
       "      <th>Status</th>\n",
       "      <th>Item Description</th>\n",
       "      <th>Lost Item Location</th>\n",
       "    </tr>\n",
       "  </thead>\n",
       "  <tbody>\n",
       "    <tr>\n",
       "      <th>count</th>\n",
       "      <td>145.000000</td>\n",
       "      <td>145</td>\n",
       "      <td>143</td>\n",
       "      <td>145</td>\n",
       "      <td>103</td>\n",
       "    </tr>\n",
       "    <tr>\n",
       "      <th>unique</th>\n",
       "      <td>NaN</td>\n",
       "      <td>7</td>\n",
       "      <td>1</td>\n",
       "      <td>128</td>\n",
       "      <td>4</td>\n",
       "    </tr>\n",
       "    <tr>\n",
       "      <th>top</th>\n",
       "      <td>NaN</td>\n",
       "      <td>Electronics</td>\n",
       "      <td>Lost</td>\n",
       "      <td>Smart Watch</td>\n",
       "      <td>Other</td>\n",
       "    </tr>\n",
       "    <tr>\n",
       "      <th>freq</th>\n",
       "      <td>NaN</td>\n",
       "      <td>57</td>\n",
       "      <td>143</td>\n",
       "      <td>3</td>\n",
       "      <td>80</td>\n",
       "    </tr>\n",
       "    <tr>\n",
       "      <th>mean</th>\n",
       "      <td>47057.303448</td>\n",
       "      <td>NaN</td>\n",
       "      <td>NaN</td>\n",
       "      <td>NaN</td>\n",
       "      <td>NaN</td>\n",
       "    </tr>\n",
       "    <tr>\n",
       "      <th>std</th>\n",
       "      <td>65.572407</td>\n",
       "      <td>NaN</td>\n",
       "      <td>NaN</td>\n",
       "      <td>NaN</td>\n",
       "      <td>NaN</td>\n",
       "    </tr>\n",
       "    <tr>\n",
       "      <th>min</th>\n",
       "      <td>46923.000000</td>\n",
       "      <td>NaN</td>\n",
       "      <td>NaN</td>\n",
       "      <td>NaN</td>\n",
       "      <td>NaN</td>\n",
       "    </tr>\n",
       "    <tr>\n",
       "      <th>25%</th>\n",
       "      <td>47006.000000</td>\n",
       "      <td>NaN</td>\n",
       "      <td>NaN</td>\n",
       "      <td>NaN</td>\n",
       "      <td>NaN</td>\n",
       "    </tr>\n",
       "    <tr>\n",
       "      <th>50%</th>\n",
       "      <td>47058.000000</td>\n",
       "      <td>NaN</td>\n",
       "      <td>NaN</td>\n",
       "      <td>NaN</td>\n",
       "      <td>NaN</td>\n",
       "    </tr>\n",
       "    <tr>\n",
       "      <th>75%</th>\n",
       "      <td>47117.000000</td>\n",
       "      <td>NaN</td>\n",
       "      <td>NaN</td>\n",
       "      <td>NaN</td>\n",
       "      <td>NaN</td>\n",
       "    </tr>\n",
       "    <tr>\n",
       "      <th>max</th>\n",
       "      <td>47168.000000</td>\n",
       "      <td>NaN</td>\n",
       "      <td>NaN</td>\n",
       "      <td>NaN</td>\n",
       "      <td>NaN</td>\n",
       "    </tr>\n",
       "  </tbody>\n",
       "</table>\n",
       "</div>"
      ],
      "text/plain": [
       "        Ticket Number    Item Type Status Item Description Lost Item Location\n",
       "count      145.000000          145    143              145                103\n",
       "unique            NaN            7      1              128                  4\n",
       "top               NaN  Electronics   Lost      Smart Watch              Other\n",
       "freq              NaN           57    143                3                 80\n",
       "mean     47057.303448          NaN    NaN              NaN                NaN\n",
       "std         65.572407          NaN    NaN              NaN                NaN\n",
       "min      46923.000000          NaN    NaN              NaN                NaN\n",
       "25%      47006.000000          NaN    NaN              NaN                NaN\n",
       "50%      47058.000000          NaN    NaN              NaN                NaN\n",
       "75%      47117.000000          NaN    NaN              NaN                NaN\n",
       "max      47168.000000          NaN    NaN              NaN                NaN"
      ]
     },
     "execution_count": 4,
     "metadata": {},
     "output_type": "execute_result"
    }
   ],
   "source": [
    "df.describe(include = \"all\")"
   ]
  },
  {
   "cell_type": "markdown",
   "id": "ee96523e-a148-43e2-83b9-304abbb13b7b",
   "metadata": {},
   "source": [
    "### Handling missing values"
   ]
  },
  {
   "cell_type": "code",
   "execution_count": 5,
   "id": "863c4ded-0a25-4e56-9bb5-d183b0c46554",
   "metadata": {},
   "outputs": [
    {
     "data": {
      "text/plain": [
       "Ticket Number          0\n",
       "Item Type              0\n",
       "Status                 2\n",
       "Item Description       0\n",
       "Lost Item Location    42\n",
       "dtype: int64"
      ]
     },
     "execution_count": 5,
     "metadata": {},
     "output_type": "execute_result"
    }
   ],
   "source": [
    "df.isna().sum()"
   ]
  },
  {
   "cell_type": "markdown",
   "id": "4aa294ce-c78d-43da-b871-ccf34b8fa50c",
   "metadata": {},
   "source": [
    "- For the `Lost Item Location` column, missing values will be replaced with \"`Unknown`\" to ensure data completeness.\n",
    "- Missing values in the `Status` column are minimal (2 rows) and will not be addressed as they have no impact on analysis."
   ]
  },
  {
   "cell_type": "code",
   "execution_count": 6,
   "id": "fe949e89-ef96-47b1-b912-630ba9151d4b",
   "metadata": {},
   "outputs": [],
   "source": [
    "value = {\"Lost Item Location\": \"Unknown\"}\n",
    "df.fillna(value=value, inplace=True)"
   ]
  },
  {
   "cell_type": "markdown",
   "id": "3508210b-370d-4b2f-9c64-bfcc592329fe",
   "metadata": {},
   "source": [
    "### Datetime Conversion"
   ]
  },
  {
   "cell_type": "markdown",
   "id": "a5dde2c2-adcd-42fd-874e-10923c17f9c2",
   "metadata": {},
   "source": [
    "To facilitate temporal analysis, the `Date` index is converted to a proper datetime object. Additional features like `Year`, `Month`, and `Weekday` are also extracted."
   ]
  },
  {
   "cell_type": "code",
   "execution_count": 7,
   "id": "fbc7b354-1a6d-4eaa-95a9-76bd9ff0b497",
   "metadata": {},
   "outputs": [],
   "source": [
    "df.index = pd.to_datetime(df.index)\n",
    "df['Year'] = df.index.year\n",
    "df['Month'] = df.index.month_name()\n",
    "df['Weekday'] = df.index.day_name()"
   ]
  },
  {
   "cell_type": "markdown",
   "id": "3def1a66-1cb3-495f-8ca9-41b2ec5c7567",
   "metadata": {},
   "source": [
    "### Cleaning the data"
   ]
  },
  {
   "cell_type": "markdown",
   "id": "751478e8-8456-4a6b-97cb-4267b9d858dc",
   "metadata": {},
   "source": [
    "To finalize the data preparation, we will check for any duplicated values and ensure chronological consistency by sorting the dataset by date."
   ]
  },
  {
   "cell_type": "code",
   "execution_count": 8,
   "id": "854bda57-b655-4eda-8343-c37532d36657",
   "metadata": {},
   "outputs": [
    {
     "name": "stdout",
     "output_type": "stream",
     "text": [
      "Number of duplicates: 0\n"
     ]
    }
   ],
   "source": [
    "print(f\"Number of duplicates: {df.duplicated().sum()}\")"
   ]
  },
  {
   "cell_type": "code",
   "execution_count": 9,
   "id": "fd2d7c72-d137-494d-b21d-0812368ad403",
   "metadata": {},
   "outputs": [],
   "source": [
    "df = df.sort_values('Date', ascending=True)"
   ]
  },
  {
   "cell_type": "markdown",
   "id": "7069d40f-6313-4305-8962-548e617034e9",
   "metadata": {},
   "source": [
    "After cleaning, the dataset is sorted by date. Below is a preview of the first five rows:"
   ]
  },
  {
   "cell_type": "code",
   "execution_count": 10,
   "id": "f3ba00fb-0f53-46ea-8bcb-d9d7dcc027aa",
   "metadata": {},
   "outputs": [
    {
     "data": {
      "text/html": [
       "<div>\n",
       "<style scoped>\n",
       "    .dataframe tbody tr th:only-of-type {\n",
       "        vertical-align: middle;\n",
       "    }\n",
       "\n",
       "    .dataframe tbody tr th {\n",
       "        vertical-align: top;\n",
       "    }\n",
       "\n",
       "    .dataframe thead th {\n",
       "        text-align: right;\n",
       "    }\n",
       "</style>\n",
       "<table border=\"1\" class=\"dataframe\">\n",
       "  <thead>\n",
       "    <tr style=\"text-align: right;\">\n",
       "      <th></th>\n",
       "      <th>Ticket Number</th>\n",
       "      <th>Item Type</th>\n",
       "      <th>Status</th>\n",
       "      <th>Item Description</th>\n",
       "      <th>Lost Item Location</th>\n",
       "      <th>Year</th>\n",
       "      <th>Month</th>\n",
       "      <th>Weekday</th>\n",
       "    </tr>\n",
       "    <tr>\n",
       "      <th>Date</th>\n",
       "      <th></th>\n",
       "      <th></th>\n",
       "      <th></th>\n",
       "      <th></th>\n",
       "      <th></th>\n",
       "      <th></th>\n",
       "      <th></th>\n",
       "      <th></th>\n",
       "    </tr>\n",
       "  </thead>\n",
       "  <tbody>\n",
       "    <tr>\n",
       "      <th>2024-05-31</th>\n",
       "      <td>46923</td>\n",
       "      <td>Jewelry</td>\n",
       "      <td>Lost</td>\n",
       "      <td>Woman's ring</td>\n",
       "      <td>Library</td>\n",
       "      <td>2024</td>\n",
       "      <td>May</td>\n",
       "      <td>Friday</td>\n",
       "    </tr>\n",
       "    <tr>\n",
       "      <th>2024-06-05</th>\n",
       "      <td>46927</td>\n",
       "      <td>Electronics</td>\n",
       "      <td>Lost</td>\n",
       "      <td>Digital Pen</td>\n",
       "      <td>Other</td>\n",
       "      <td>2024</td>\n",
       "      <td>June</td>\n",
       "      <td>Wednesday</td>\n",
       "    </tr>\n",
       "    <tr>\n",
       "      <th>2024-06-05</th>\n",
       "      <td>46925</td>\n",
       "      <td>Keys</td>\n",
       "      <td>Lost</td>\n",
       "      <td>Single key on ring</td>\n",
       "      <td>Library</td>\n",
       "      <td>2024</td>\n",
       "      <td>June</td>\n",
       "      <td>Wednesday</td>\n",
       "    </tr>\n",
       "    <tr>\n",
       "      <th>2024-06-05</th>\n",
       "      <td>46926</td>\n",
       "      <td>Jewelry</td>\n",
       "      <td>Lost</td>\n",
       "      <td>Silver ear ring</td>\n",
       "      <td>Library</td>\n",
       "      <td>2024</td>\n",
       "      <td>June</td>\n",
       "      <td>Wednesday</td>\n",
       "    </tr>\n",
       "    <tr>\n",
       "      <th>2024-06-05</th>\n",
       "      <td>46928</td>\n",
       "      <td>Jewelry</td>\n",
       "      <td>Lost</td>\n",
       "      <td>Ear ring (beaded)</td>\n",
       "      <td>Library</td>\n",
       "      <td>2024</td>\n",
       "      <td>June</td>\n",
       "      <td>Wednesday</td>\n",
       "    </tr>\n",
       "  </tbody>\n",
       "</table>\n",
       "</div>"
      ],
      "text/plain": [
       "            Ticket Number    Item Type Status    Item Description  \\\n",
       "Date                                                                \n",
       "2024-05-31          46923      Jewelry   Lost        Woman's ring   \n",
       "2024-06-05          46927  Electronics   Lost         Digital Pen   \n",
       "2024-06-05          46925         Keys   Lost  Single key on ring   \n",
       "2024-06-05          46926      Jewelry   Lost     Silver ear ring   \n",
       "2024-06-05          46928      Jewelry   Lost   Ear ring (beaded)   \n",
       "\n",
       "           Lost Item Location  Year Month    Weekday  \n",
       "Date                                                  \n",
       "2024-05-31            Library  2024   May     Friday  \n",
       "2024-06-05              Other  2024  June  Wednesday  \n",
       "2024-06-05            Library  2024  June  Wednesday  \n",
       "2024-06-05            Library  2024  June  Wednesday  \n",
       "2024-06-05            Library  2024  June  Wednesday  "
      ]
     },
     "execution_count": 10,
     "metadata": {},
     "output_type": "execute_result"
    }
   ],
   "source": [
    "df.head()"
   ]
  },
  {
   "cell_type": "markdown",
   "id": "631b60db-f911-4a41-8ce5-8c34563fee76",
   "metadata": {},
   "source": [
    "## Exploratory Data Analysis\n",
    "--- "
   ]
  }
 ],
 "metadata": {
  "kernelspec": {
   "display_name": "Python 3 (ipykernel)",
   "language": "python",
   "name": "python3"
  },
  "language_info": {
   "codemirror_mode": {
    "name": "ipython",
    "version": 3
   },
   "file_extension": ".py",
   "mimetype": "text/x-python",
   "name": "python",
   "nbconvert_exporter": "python",
   "pygments_lexer": "ipython3",
   "version": "3.10.5"
  }
 },
 "nbformat": 4,
 "nbformat_minor": 5
}
